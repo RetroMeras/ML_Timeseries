{
 "cells": [
  {
   "cell_type": "code",
   "execution_count": null,
   "metadata": {
    "colab": {
     "base_uri": "https://localhost:8080/"
    },
    "id": "mw4jnwXTuFMb",
    "outputId": "2f917426-5004-42e5-db0e-9b1a882c4e30"
   },
   "outputs": [
    {
     "data": {
      "text/plain": [
       "device(type='cuda')"
      ]
     },
     "execution_count": 19,
     "metadata": {},
     "output_type": "execute_result"
    }
   ],
   "source": [
    "import pandas as pd\n",
    "import numpy as np\n",
    "import torch\n",
    "import torch.nn as nn\n",
    "from torch.utils.data import Dataset, DataLoader\n",
    "from sklearn.preprocessing import MinMaxScaler, OneHotEncoder\n",
    "from sklearn.model_selection import train_test_split\n",
    "from tqdm import tqdm\n",
    "\n",
    "DEVICE = torch.device(\"cuda\" if torch.cuda.is_available() else \"cpu\")\n",
    "\n",
    "DEVICE"
   ]
  },
  {
   "cell_type": "code",
   "execution_count": 20,
   "metadata": {
    "colab": {
     "base_uri": "https://localhost:8080/",
     "height": 206
    },
    "id": "3d7f2WyAvk5t",
    "outputId": "ffe0b7d3-4c44-4196-f47b-291f99585af7"
   },
   "outputs": [
    {
     "data": {
      "application/vnd.google.colaboratory.intrinsic+json": {
       "type": "dataframe",
       "variable_name": "df"
      },
      "text/html": [
       "\n",
       "  <div id=\"df-34a5fffd-700d-4f30-9972-209eafe04ddc\" class=\"colab-df-container\">\n",
       "    <div>\n",
       "<style scoped>\n",
       "    .dataframe tbody tr th:only-of-type {\n",
       "        vertical-align: middle;\n",
       "    }\n",
       "\n",
       "    .dataframe tbody tr th {\n",
       "        vertical-align: top;\n",
       "    }\n",
       "\n",
       "    .dataframe thead th {\n",
       "        text-align: right;\n",
       "    }\n",
       "</style>\n",
       "<table border=\"1\" class=\"dataframe\">\n",
       "  <thead>\n",
       "    <tr style=\"text-align: right;\">\n",
       "      <th></th>\n",
       "      <th>date</th>\n",
       "      <th>store_nbr</th>\n",
       "      <th>family</th>\n",
       "      <th>sales</th>\n",
       "      <th>cluster</th>\n",
       "      <th>is_holiday</th>\n",
       "      <th>oil_price</th>\n",
       "    </tr>\n",
       "  </thead>\n",
       "  <tbody>\n",
       "    <tr>\n",
       "      <th>0</th>\n",
       "      <td>2013-01-02</td>\n",
       "      <td>1</td>\n",
       "      <td>AUTOMOTIVE</td>\n",
       "      <td>2.0</td>\n",
       "      <td>13</td>\n",
       "      <td>0</td>\n",
       "      <td>93.14</td>\n",
       "    </tr>\n",
       "    <tr>\n",
       "      <th>1</th>\n",
       "      <td>2013-01-03</td>\n",
       "      <td>1</td>\n",
       "      <td>AUTOMOTIVE</td>\n",
       "      <td>3.0</td>\n",
       "      <td>13</td>\n",
       "      <td>0</td>\n",
       "      <td>92.97</td>\n",
       "    </tr>\n",
       "    <tr>\n",
       "      <th>2</th>\n",
       "      <td>2013-01-04</td>\n",
       "      <td>1</td>\n",
       "      <td>AUTOMOTIVE</td>\n",
       "      <td>3.0</td>\n",
       "      <td>13</td>\n",
       "      <td>0</td>\n",
       "      <td>93.12</td>\n",
       "    </tr>\n",
       "    <tr>\n",
       "      <th>3</th>\n",
       "      <td>2013-01-07</td>\n",
       "      <td>1</td>\n",
       "      <td>AUTOMOTIVE</td>\n",
       "      <td>0.0</td>\n",
       "      <td>13</td>\n",
       "      <td>0</td>\n",
       "      <td>93.20</td>\n",
       "    </tr>\n",
       "    <tr>\n",
       "      <th>4</th>\n",
       "      <td>2013-01-08</td>\n",
       "      <td>1</td>\n",
       "      <td>AUTOMOTIVE</td>\n",
       "      <td>2.0</td>\n",
       "      <td>13</td>\n",
       "      <td>0</td>\n",
       "      <td>93.21</td>\n",
       "    </tr>\n",
       "  </tbody>\n",
       "</table>\n",
       "</div>\n",
       "    <div class=\"colab-df-buttons\">\n",
       "\n",
       "  <div class=\"colab-df-container\">\n",
       "    <button class=\"colab-df-convert\" onclick=\"convertToInteractive('df-34a5fffd-700d-4f30-9972-209eafe04ddc')\"\n",
       "            title=\"Convert this dataframe to an interactive table.\"\n",
       "            style=\"display:none;\">\n",
       "\n",
       "  <svg xmlns=\"http://www.w3.org/2000/svg\" height=\"24px\" viewBox=\"0 -960 960 960\">\n",
       "    <path d=\"M120-120v-720h720v720H120Zm60-500h600v-160H180v160Zm220 220h160v-160H400v160Zm0 220h160v-160H400v160ZM180-400h160v-160H180v160Zm440 0h160v-160H620v160ZM180-180h160v-160H180v160Zm440 0h160v-160H620v160Z\"/>\n",
       "  </svg>\n",
       "    </button>\n",
       "\n",
       "  <style>\n",
       "    .colab-df-container {\n",
       "      display:flex;\n",
       "      gap: 12px;\n",
       "    }\n",
       "\n",
       "    .colab-df-convert {\n",
       "      background-color: #E8F0FE;\n",
       "      border: none;\n",
       "      border-radius: 50%;\n",
       "      cursor: pointer;\n",
       "      display: none;\n",
       "      fill: #1967D2;\n",
       "      height: 32px;\n",
       "      padding: 0 0 0 0;\n",
       "      width: 32px;\n",
       "    }\n",
       "\n",
       "    .colab-df-convert:hover {\n",
       "      background-color: #E2EBFA;\n",
       "      box-shadow: 0px 1px 2px rgba(60, 64, 67, 0.3), 0px 1px 3px 1px rgba(60, 64, 67, 0.15);\n",
       "      fill: #174EA6;\n",
       "    }\n",
       "\n",
       "    .colab-df-buttons div {\n",
       "      margin-bottom: 4px;\n",
       "    }\n",
       "\n",
       "    [theme=dark] .colab-df-convert {\n",
       "      background-color: #3B4455;\n",
       "      fill: #D2E3FC;\n",
       "    }\n",
       "\n",
       "    [theme=dark] .colab-df-convert:hover {\n",
       "      background-color: #434B5C;\n",
       "      box-shadow: 0px 1px 3px 1px rgba(0, 0, 0, 0.15);\n",
       "      filter: drop-shadow(0px 1px 2px rgba(0, 0, 0, 0.3));\n",
       "      fill: #FFFFFF;\n",
       "    }\n",
       "  </style>\n",
       "\n",
       "    <script>\n",
       "      const buttonEl =\n",
       "        document.querySelector('#df-34a5fffd-700d-4f30-9972-209eafe04ddc button.colab-df-convert');\n",
       "      buttonEl.style.display =\n",
       "        google.colab.kernel.accessAllowed ? 'block' : 'none';\n",
       "\n",
       "      async function convertToInteractive(key) {\n",
       "        const element = document.querySelector('#df-34a5fffd-700d-4f30-9972-209eafe04ddc');\n",
       "        const dataTable =\n",
       "          await google.colab.kernel.invokeFunction('convertToInteractive',\n",
       "                                                    [key], {});\n",
       "        if (!dataTable) return;\n",
       "\n",
       "        const docLinkHtml = 'Like what you see? Visit the ' +\n",
       "          '<a target=\"_blank\" href=https://colab.research.google.com/notebooks/data_table.ipynb>data table notebook</a>'\n",
       "          + ' to learn more about interactive tables.';\n",
       "        element.innerHTML = '';\n",
       "        dataTable['output_type'] = 'display_data';\n",
       "        await google.colab.output.renderOutput(dataTable, element);\n",
       "        const docLink = document.createElement('div');\n",
       "        docLink.innerHTML = docLinkHtml;\n",
       "        element.appendChild(docLink);\n",
       "      }\n",
       "    </script>\n",
       "  </div>\n",
       "\n",
       "\n",
       "    <div id=\"df-dd573d4d-ea12-4122-82f8-fe6585d32bdf\">\n",
       "      <button class=\"colab-df-quickchart\" onclick=\"quickchart('df-dd573d4d-ea12-4122-82f8-fe6585d32bdf')\"\n",
       "                title=\"Suggest charts\"\n",
       "                style=\"display:none;\">\n",
       "\n",
       "<svg xmlns=\"http://www.w3.org/2000/svg\" height=\"24px\"viewBox=\"0 0 24 24\"\n",
       "     width=\"24px\">\n",
       "    <g>\n",
       "        <path d=\"M19 3H5c-1.1 0-2 .9-2 2v14c0 1.1.9 2 2 2h14c1.1 0 2-.9 2-2V5c0-1.1-.9-2-2-2zM9 17H7v-7h2v7zm4 0h-2V7h2v10zm4 0h-2v-4h2v4z\"/>\n",
       "    </g>\n",
       "</svg>\n",
       "      </button>\n",
       "\n",
       "<style>\n",
       "  .colab-df-quickchart {\n",
       "      --bg-color: #E8F0FE;\n",
       "      --fill-color: #1967D2;\n",
       "      --hover-bg-color: #E2EBFA;\n",
       "      --hover-fill-color: #174EA6;\n",
       "      --disabled-fill-color: #AAA;\n",
       "      --disabled-bg-color: #DDD;\n",
       "  }\n",
       "\n",
       "  [theme=dark] .colab-df-quickchart {\n",
       "      --bg-color: #3B4455;\n",
       "      --fill-color: #D2E3FC;\n",
       "      --hover-bg-color: #434B5C;\n",
       "      --hover-fill-color: #FFFFFF;\n",
       "      --disabled-bg-color: #3B4455;\n",
       "      --disabled-fill-color: #666;\n",
       "  }\n",
       "\n",
       "  .colab-df-quickchart {\n",
       "    background-color: var(--bg-color);\n",
       "    border: none;\n",
       "    border-radius: 50%;\n",
       "    cursor: pointer;\n",
       "    display: none;\n",
       "    fill: var(--fill-color);\n",
       "    height: 32px;\n",
       "    padding: 0;\n",
       "    width: 32px;\n",
       "  }\n",
       "\n",
       "  .colab-df-quickchart:hover {\n",
       "    background-color: var(--hover-bg-color);\n",
       "    box-shadow: 0 1px 2px rgba(60, 64, 67, 0.3), 0 1px 3px 1px rgba(60, 64, 67, 0.15);\n",
       "    fill: var(--button-hover-fill-color);\n",
       "  }\n",
       "\n",
       "  .colab-df-quickchart-complete:disabled,\n",
       "  .colab-df-quickchart-complete:disabled:hover {\n",
       "    background-color: var(--disabled-bg-color);\n",
       "    fill: var(--disabled-fill-color);\n",
       "    box-shadow: none;\n",
       "  }\n",
       "\n",
       "  .colab-df-spinner {\n",
       "    border: 2px solid var(--fill-color);\n",
       "    border-color: transparent;\n",
       "    border-bottom-color: var(--fill-color);\n",
       "    animation:\n",
       "      spin 1s steps(1) infinite;\n",
       "  }\n",
       "\n",
       "  @keyframes spin {\n",
       "    0% {\n",
       "      border-color: transparent;\n",
       "      border-bottom-color: var(--fill-color);\n",
       "      border-left-color: var(--fill-color);\n",
       "    }\n",
       "    20% {\n",
       "      border-color: transparent;\n",
       "      border-left-color: var(--fill-color);\n",
       "      border-top-color: var(--fill-color);\n",
       "    }\n",
       "    30% {\n",
       "      border-color: transparent;\n",
       "      border-left-color: var(--fill-color);\n",
       "      border-top-color: var(--fill-color);\n",
       "      border-right-color: var(--fill-color);\n",
       "    }\n",
       "    40% {\n",
       "      border-color: transparent;\n",
       "      border-right-color: var(--fill-color);\n",
       "      border-top-color: var(--fill-color);\n",
       "    }\n",
       "    60% {\n",
       "      border-color: transparent;\n",
       "      border-right-color: var(--fill-color);\n",
       "    }\n",
       "    80% {\n",
       "      border-color: transparent;\n",
       "      border-right-color: var(--fill-color);\n",
       "      border-bottom-color: var(--fill-color);\n",
       "    }\n",
       "    90% {\n",
       "      border-color: transparent;\n",
       "      border-bottom-color: var(--fill-color);\n",
       "    }\n",
       "  }\n",
       "</style>\n",
       "\n",
       "      <script>\n",
       "        async function quickchart(key) {\n",
       "          const quickchartButtonEl =\n",
       "            document.querySelector('#' + key + ' button');\n",
       "          quickchartButtonEl.disabled = true;  // To prevent multiple clicks.\n",
       "          quickchartButtonEl.classList.add('colab-df-spinner');\n",
       "          try {\n",
       "            const charts = await google.colab.kernel.invokeFunction(\n",
       "                'suggestCharts', [key], {});\n",
       "          } catch (error) {\n",
       "            console.error('Error during call to suggestCharts:', error);\n",
       "          }\n",
       "          quickchartButtonEl.classList.remove('colab-df-spinner');\n",
       "          quickchartButtonEl.classList.add('colab-df-quickchart-complete');\n",
       "        }\n",
       "        (() => {\n",
       "          let quickchartButtonEl =\n",
       "            document.querySelector('#df-dd573d4d-ea12-4122-82f8-fe6585d32bdf button');\n",
       "          quickchartButtonEl.style.display =\n",
       "            google.colab.kernel.accessAllowed ? 'block' : 'none';\n",
       "        })();\n",
       "      </script>\n",
       "    </div>\n",
       "    </div>\n",
       "  </div>\n"
      ],
      "text/plain": [
       "        date  store_nbr      family  sales  cluster  is_holiday  oil_price\n",
       "0 2013-01-02          1  AUTOMOTIVE    2.0       13           0      93.14\n",
       "1 2013-01-03          1  AUTOMOTIVE    3.0       13           0      92.97\n",
       "2 2013-01-04          1  AUTOMOTIVE    3.0       13           0      93.12\n",
       "3 2013-01-07          1  AUTOMOTIVE    0.0       13           0      93.20\n",
       "4 2013-01-08          1  AUTOMOTIVE    2.0       13           0      93.21"
      ]
     },
     "execution_count": 20,
     "metadata": {},
     "output_type": "execute_result"
    }
   ],
   "source": [
    "df = pd.read_csv(\"./train.csv\", index_col=0)\n",
    "df['date'] = pd.to_datetime(df['date'])\n",
    "df = df.sort_values(by=['store_nbr', 'family', 'date']).reset_index(drop=True)\n",
    "df.head()"
   ]
  },
  {
   "cell_type": "code",
   "execution_count": null,
   "metadata": {
    "id": "9DJwC3AI3w21"
   },
   "outputs": [],
   "source": [
    "def ohe(df, categorical_columns):\n",
    "  encoder = OneHotEncoder(sparse_output=False)\n",
    "\n",
    "  one_hot_encoded = encoder.fit_transform(df[categorical_columns])\n",
    "\n",
    "  new_columns = encoder.get_feature_names_out(categorical_columns)\n",
    "  one_hot_df = pd.DataFrame(one_hot_encoded,\n",
    "                            columns=new_columns)\n",
    "\n",
    "  return new_columns, pd.concat([df, one_hot_df], axis=1)\n",
    "\n",
    "\n",
    "# static_cat_cols, df = ohe(df,  ['store_nbr', 'family', 'cluster'])\n",
    "static_cat_cols, df = ohe(df,  ['family', 'cluster'])\n"
   ]
  },
  {
   "cell_type": "code",
   "execution_count": 22,
   "metadata": {
    "id": "Y5hxTkQEwEU1"
   },
   "outputs": [],
   "source": [
    "dynamic_num_cols = ['sales', 'oil_price']\n",
    "scalers = {}\n",
    "for col in dynamic_num_cols:\n",
    "    scaler = MinMaxScaler()\n",
    "    df[col] = scaler.fit_transform(df[[col]])\n",
    "    scalers[col] = scaler\n",
    "\n",
    "dynamic_num_cols.append(\"is_holiday\")\n"
   ]
  },
  {
   "cell_type": "code",
   "execution_count": 23,
   "metadata": {
    "id": "oQEyR1CCyMRS"
   },
   "outputs": [],
   "source": [
    "def encode_dates(df, date_column):\n",
    "    dates = df[date_column]\n",
    "\n",
    "    df['year'] = dates.dt.year -2013\n",
    "    df['day_of_year_sin'] = np.sin(2 * np.pi * dates.dt.dayofyear / 365)\n",
    "    df['day_of_year_cos'] = np.cos(2 * np.pi * dates.dt.dayofyear / 365)\n",
    "    df['day_of_month_sin'] = np.sin(2 * np.pi * dates.dt.day / 31)\n",
    "    df['day_of_month_cos'] = np.cos(2 * np.pi * dates.dt.day / 31)\n",
    "    df['day_of_week_sin'] = np.sin(2 * np.pi * dates.dt.dayofweek / 7)\n",
    "    df['day_of_week_cos'] = np.cos(2 * np.pi * dates.dt.dayofweek / 7)\n",
    "    df['month_sin'] = np.sin(2 * np.pi * dates.dt.month / 12)\n",
    "    df['month_cos'] = np.cos(2 * np.pi * dates.dt.month / 12)\n",
    "\n",
    "\n",
    "encode_dates(df, \"date\")\n",
    "\n",
    "dynamic_num_cols.extend([\n",
    "    'year',\n",
    "    'day_of_year_sin',\n",
    "    'day_of_year_cos',\n",
    "    'day_of_month_sin',\n",
    "    'day_of_month_cos',\n",
    "    'day_of_week_sin',\n",
    "    'day_of_week_cos',\n",
    "    'month_sin',\n",
    "    'month_cos',\n",
    "])\n"
   ]
  },
  {
   "cell_type": "code",
   "execution_count": 24,
   "metadata": {
    "id": "s1j2MBZt5RXf"
   },
   "outputs": [],
   "source": [
    "static_cat_cols = list(static_cat_cols)"
   ]
  },
  {
   "cell_type": "code",
   "execution_count": 25,
   "metadata": {
    "colab": {
     "base_uri": "https://localhost:8080/"
    },
    "id": "9jHo9khQxk6q",
    "outputId": "f8052325-3fc1-446b-fca2-a8446b67f732"
   },
   "outputs": [
    {
     "name": "stdout",
     "output_type": "stream",
     "text": [
      "X_dynamic shape: (2096952, 4, 12)\n",
      "X_static shape: (2096952, 50)\n",
      "y shape: (2096952, 1)\n"
     ]
    }
   ],
   "source": [
    "SEQUENCE_LENGTH = 4\n",
    "\n",
    "def create_sequences(data, seq_length=SEQUENCE_LENGTH, dynamic_cols=dynamic_num_cols, static_cols=static_cat_cols, target_col='sales'):\n",
    "    sequences = []\n",
    "    targets = []\n",
    "    static_features_for_target = []\n",
    "\n",
    "    # entity_cols = ['store_nbr', 'family', \"cluster\"] # Core entity identifiers\n",
    "    entity_cols = ['family', \"cluster\"] # Core entity identifiers\n",
    "\n",
    "    for _, group in data.groupby(entity_cols):\n",
    "        group_dynamic_data = group[dynamic_cols].values\n",
    "        group_static_data_at_target = group[static_cols + [target_col]].values # Static features + target sales\n",
    "\n",
    "        for i in range(len(group) - seq_length):\n",
    "            seq = group_dynamic_data[i : i + seq_length]\n",
    "            sequences.append(seq)\n",
    "\n",
    "            target_val = group_static_data_at_target[i + seq_length, -1] # Last col is target_col ('sales')\n",
    "            targets.append(target_val)\n",
    "\n",
    "            static_vals = group_static_data_at_target[i + seq_length, :-1]\n",
    "            static_features_for_target.append(static_vals)\n",
    "\n",
    "    return (np.array(sequences),\n",
    "            np.array(static_features_for_target),\n",
    "            np.array(targets).reshape(-1, 1))\n",
    "\n",
    "X_dynamic, X_static, y = create_sequences(df, SEQUENCE_LENGTH)\n",
    "\n",
    "print(f\"X_dynamic shape: {X_dynamic.shape}\")\n",
    "print(f\"X_static shape: {X_static.shape}\")\n",
    "print(f\"y shape: {y.shape}\")\n"
   ]
  },
  {
   "cell_type": "code",
   "execution_count": 26,
   "metadata": {
    "colab": {
     "base_uri": "https://localhost:8080/"
    },
    "id": "cH2B67ev2L5u",
    "outputId": "c0026243-4eb7-4d46-f8d1-b774ebbea548"
   },
   "outputs": [
    {
     "name": "stdout",
     "output_type": "stream",
     "text": [
      "X_dynamic shape: (100000, 4, 12)\n",
      "X_static shape: (100000, 50)\n",
      "y shape: (100000, 1)\n"
     ]
    }
   ],
   "source": [
    "limit = 100000\n",
    "if limit != 0:\n",
    "  X_dynamic = X_dynamic[-limit:, :, :]\n",
    "  X_static = X_static[-limit:, :]\n",
    "  y = y[-limit:]\n",
    "\n",
    "print(f\"X_dynamic shape: {X_dynamic.shape}\")\n",
    "print(f\"X_static shape: {X_static.shape}\")\n",
    "print(f\"y shape: {y.shape}\")"
   ]
  },
  {
   "cell_type": "code",
   "execution_count": 27,
   "metadata": {
    "id": "Xuy6ff7Kx_nq"
   },
   "outputs": [],
   "source": [
    "(X_dynamic_train, X_dynamic_val,\n",
    " X_static_train, X_static_val,\n",
    " y_train, y_val) = train_test_split(X_dynamic, X_static, y, test_size=0.2, random_state=42)"
   ]
  },
  {
   "cell_type": "code",
   "execution_count": 28,
   "metadata": {
    "id": "MbEJPwHHz8aU"
   },
   "outputs": [],
   "source": [
    "BATCH_SIZE = 64\n",
    "\n",
    "class SalesDataset(Dataset):\n",
    "    def __init__(self, dynamic_features, static_features, targets):\n",
    "        self.dynamic_features = torch.tensor(dynamic_features, dtype=torch.float32)\n",
    "        self.static_features = torch.tensor(static_features, dtype=torch.float32)\n",
    "        self.targets = torch.tensor(targets, dtype=torch.float32)\n",
    "\n",
    "    def __len__(self):\n",
    "        return len(self.targets)\n",
    "\n",
    "    def __getitem__(self, idx):\n",
    "        return (self.dynamic_features[idx],\n",
    "                self.static_features[idx],\n",
    "                self.targets[idx])\n",
    "\n",
    "train_dataset = SalesDataset(X_dynamic_train, X_static_train, y_train)\n",
    "val_dataset = SalesDataset(X_dynamic_val, X_static_val, y_val)\n",
    "\n",
    "train_loader = DataLoader(train_dataset, batch_size=BATCH_SIZE, shuffle=True)\n",
    "val_loader = DataLoader(val_dataset, batch_size=BATCH_SIZE, shuffle=False)\n"
   ]
  },
  {
   "cell_type": "code",
   "execution_count": null,
   "metadata": {
    "colab": {
     "base_uri": "https://localhost:8080/"
    },
    "id": "OrLg9ZY0t1SN",
    "outputId": "b883ac56-1f84-4df2-e543-9ee9c71ebc2e"
   },
   "outputs": [
    {
     "name": "stdout",
     "output_type": "stream",
     "text": [
      "\n",
      "Model Architecture:\n",
      "SalesPredictorLSTM(\n",
      "  (static_mlp): Sequential(\n",
      "    (0): Linear(in_features=50, out_features=64, bias=True)\n",
      "    (1): ReLU()\n",
      "    (2): Linear(in_features=64, out_features=16, bias=True)\n",
      "    (3): ReLU()\n",
      "  )\n",
      "  (lstm): LSTM(12, 64, batch_first=True)\n",
      "  (fc1): Linear(in_features=80, out_features=32, bias=True)\n",
      "  (relu): ReLU()\n",
      "  (fc2): Linear(in_features=32, out_features=1, bias=True)\n",
      ")\n"
     ]
    }
   ],
   "source": [
    "HIDDEN_SIZE_LSTM = 64\n",
    "HIDDEN_SIZE_FC = 32\n",
    "\n",
    "class SalesPredictorLSTM(nn.Module):\n",
    "    def __init__(self, num_dynamic_features,\n",
    "                 lstm_hidden_size, fc_hidden_size, num_static_features):\n",
    "        super().__init__()\n",
    "        self.num_static_features = num_static_features\n",
    "\n",
    "        self.static_dim = 16\n",
    "\n",
    "        self.static_mlp = nn.Sequential(\n",
    "            nn.Linear(num_static_features, 64),\n",
    "            nn.ReLU(),\n",
    "            nn.Linear(64, self.static_dim),\n",
    "            nn.ReLU(),\n",
    "\n",
    "        )\n",
    "\n",
    "        # LSTM for dynamic features\n",
    "        self.lstm = nn.LSTM(input_size=num_dynamic_features,\n",
    "                            hidden_size=lstm_hidden_size,\n",
    "                            batch_first=True,\n",
    "                            num_layers=1)\n",
    "\n",
    "\n",
    "        self.fc1 = nn.Linear(lstm_hidden_size + self.static_dim , fc_hidden_size)\n",
    "        self.relu = nn.ReLU()\n",
    "        self.fc2 = nn.Linear(fc_hidden_size, 1)\n",
    "\n",
    "    def forward(self, dynamic_seq, static_feats):\n",
    "        # dynamic_seq: (batch, seq_len, num_dynamic_features)\n",
    "        # static_feats: (batch, num_static_features)\n",
    "\n",
    "        # LSTM part\n",
    "        lstm_out, (h_n, c_n) = self.lstm(dynamic_seq)\n",
    "        lstm_last_hidden = h_n[-1]\n",
    "\n",
    "        # Static part\n",
    "        static_features = self.static_mlp(static_feats)\n",
    "\n",
    "        # Combine LSTM output and embeddings\n",
    "        combined = torch.cat((lstm_last_hidden, static_features), dim=1)\n",
    "\n",
    "        # Pass through FC layers\n",
    "        x = self.fc1(combined)\n",
    "        x = self.relu(x)\n",
    "        x = self.fc2(x)\n",
    "        return self.relu(x)\n",
    "\n",
    "\n",
    "model = SalesPredictorLSTM(\n",
    "    num_dynamic_features=X_dynamic_train.shape[2],\n",
    "    lstm_hidden_size=HIDDEN_SIZE_LSTM,\n",
    "    fc_hidden_size=HIDDEN_SIZE_FC,\n",
    "    num_static_features=X_static_train.shape[1]\n",
    ").to(DEVICE)\n",
    "\n",
    "print(\"\\nModel Architecture:\")\n",
    "print(model)\n"
   ]
  },
  {
   "cell_type": "code",
   "execution_count": 30,
   "metadata": {
    "colab": {
     "base_uri": "https://localhost:8080/"
    },
    "id": "W0ycAg9z0wNE",
    "outputId": "95203c56-fbae-43d4-b5ae-ffe878c1f0fb"
   },
   "outputs": [
    {
     "name": "stdout",
     "output_type": "stream",
     "text": [
      "\n",
      "Starting Training...\n"
     ]
    },
    {
     "name": "stderr",
     "output_type": "stream",
     "text": [
      "100%|██████████| 1250/1250 [00:05<00:00, 235.69it/s]\n",
      "100%|██████████| 313/313 [00:00<00:00, 486.33it/s]\n"
     ]
    },
    {
     "name": "stdout",
     "output_type": "stream",
     "text": [
      "Epoch 1/10, Train Loss: 0.000098, Val Loss: 0.000057\n"
     ]
    },
    {
     "name": "stderr",
     "output_type": "stream",
     "text": [
      "100%|██████████| 1250/1250 [00:04<00:00, 294.44it/s]\n",
      "100%|██████████| 313/313 [00:00<00:00, 762.68it/s]\n"
     ]
    },
    {
     "name": "stdout",
     "output_type": "stream",
     "text": [
      "Epoch 2/10, Train Loss: 0.000048, Val Loss: 0.000037\n"
     ]
    },
    {
     "name": "stderr",
     "output_type": "stream",
     "text": [
      "100%|██████████| 1250/1250 [00:04<00:00, 299.08it/s]\n",
      "100%|██████████| 313/313 [00:00<00:00, 771.28it/s]\n"
     ]
    },
    {
     "name": "stdout",
     "output_type": "stream",
     "text": [
      "Epoch 3/10, Train Loss: 0.000040, Val Loss: 0.000035\n"
     ]
    },
    {
     "name": "stderr",
     "output_type": "stream",
     "text": [
      "100%|██████████| 1250/1250 [00:04<00:00, 254.83it/s]\n",
      "100%|██████████| 313/313 [00:00<00:00, 735.39it/s]\n"
     ]
    },
    {
     "name": "stdout",
     "output_type": "stream",
     "text": [
      "Epoch 4/10, Train Loss: 0.000036, Val Loss: 0.000046\n"
     ]
    },
    {
     "name": "stderr",
     "output_type": "stream",
     "text": [
      "100%|██████████| 1250/1250 [00:04<00:00, 300.04it/s]\n",
      "100%|██████████| 313/313 [00:00<00:00, 777.96it/s]\n"
     ]
    },
    {
     "name": "stdout",
     "output_type": "stream",
     "text": [
      "Epoch 5/10, Train Loss: 0.000034, Val Loss: 0.000034\n"
     ]
    },
    {
     "name": "stderr",
     "output_type": "stream",
     "text": [
      "100%|██████████| 1250/1250 [00:04<00:00, 271.27it/s]\n",
      "100%|██████████| 313/313 [00:00<00:00, 506.18it/s]\n"
     ]
    },
    {
     "name": "stdout",
     "output_type": "stream",
     "text": [
      "Epoch 6/10, Train Loss: 0.000032, Val Loss: 0.000031\n"
     ]
    },
    {
     "name": "stderr",
     "output_type": "stream",
     "text": [
      "100%|██████████| 1250/1250 [00:04<00:00, 286.75it/s]\n",
      "100%|██████████| 313/313 [00:00<00:00, 745.43it/s]\n"
     ]
    },
    {
     "name": "stdout",
     "output_type": "stream",
     "text": [
      "Epoch 7/10, Train Loss: 0.000030, Val Loss: 0.000032\n"
     ]
    },
    {
     "name": "stderr",
     "output_type": "stream",
     "text": [
      "100%|██████████| 1250/1250 [00:04<00:00, 295.81it/s]\n",
      "100%|██████████| 313/313 [00:00<00:00, 744.18it/s]\n"
     ]
    },
    {
     "name": "stdout",
     "output_type": "stream",
     "text": [
      "Epoch 8/10, Train Loss: 0.000030, Val Loss: 0.000028\n"
     ]
    },
    {
     "name": "stderr",
     "output_type": "stream",
     "text": [
      "100%|██████████| 1250/1250 [00:04<00:00, 258.80it/s]\n",
      "100%|██████████| 313/313 [00:00<00:00, 760.86it/s]\n"
     ]
    },
    {
     "name": "stdout",
     "output_type": "stream",
     "text": [
      "Epoch 9/10, Train Loss: 0.000029, Val Loss: 0.000026\n"
     ]
    },
    {
     "name": "stderr",
     "output_type": "stream",
     "text": [
      "100%|██████████| 1250/1250 [00:04<00:00, 302.74it/s]\n",
      "100%|██████████| 313/313 [00:00<00:00, 761.72it/s]"
     ]
    },
    {
     "name": "stdout",
     "output_type": "stream",
     "text": [
      "Epoch 10/10, Train Loss: 0.000028, Val Loss: 0.000038\n"
     ]
    },
    {
     "name": "stderr",
     "output_type": "stream",
     "text": [
      "\n"
     ]
    }
   ],
   "source": [
    "EPOCHS = 10\n",
    "LEARNING_RATE = 5e-4\n",
    "\n",
    "criterion = nn.MSELoss()\n",
    "optimizer = torch.optim.Adam(model.parameters(), lr=LEARNING_RATE)\n",
    "\n",
    "print(\"\\nStarting Training...\")\n",
    "for epoch in range(EPOCHS):\n",
    "    model.train()\n",
    "    train_loss_epoch = 0\n",
    "    for dynamic_batch, static_batch, target_batch in tqdm(train_loader):\n",
    "        dynamic_batch, static_batch, target_batch = \\\n",
    "            dynamic_batch.to(DEVICE), static_batch.to(DEVICE), target_batch.to(DEVICE)\n",
    "\n",
    "        optimizer.zero_grad()\n",
    "        outputs = model(dynamic_batch, static_batch)\n",
    "        loss = criterion(outputs, target_batch)\n",
    "        loss.backward()\n",
    "        optimizer.step()\n",
    "        train_loss_epoch += loss.item()\n",
    "\n",
    "    train_loss_epoch /= len(train_loader)\n",
    "\n",
    "    model.eval()\n",
    "    val_loss_epoch = 0\n",
    "    with torch.no_grad():\n",
    "        for dynamic_batch, static_batch, target_batch in tqdm(val_loader):\n",
    "            dynamic_batch, static_batch, target_batch = \\\n",
    "                dynamic_batch.to(DEVICE), static_batch.to(DEVICE), target_batch.to(DEVICE)\n",
    "            outputs = model(dynamic_batch, static_batch)\n",
    "            loss = criterion(outputs, target_batch)\n",
    "            val_loss_epoch += loss.item()\n",
    "    val_loss_epoch /= len(val_loader)\n",
    "\n",
    "    print(f\"Epoch {epoch+1}/{EPOCHS}, Train Loss: {train_loss_epoch:.6f}, Val Loss: {val_loss_epoch:.6f}\")\n",
    "\n"
   ]
  },
  {
   "cell_type": "code",
   "execution_count": null,
   "metadata": {
    "colab": {
     "base_uri": "https://localhost:8080/"
    },
    "id": "_NlVUGmp06Ys",
    "outputId": "637fecee-4b6e-439e-c644-d33aefc0a4bd"
   },
   "outputs": [
    {
     "name": "stderr",
     "output_type": "stream",
     "text": [
      "100%|██████████| 20000/20000 [00:20<00:00, 979.71it/s] \n"
     ]
    }
   ],
   "source": [
    "predictions = []\n",
    "actuals =[]\n",
    "\n",
    "model.eval()\n",
    "with torch.no_grad():\n",
    "    for i in tqdm(range(len(val_dataset))):\n",
    "      sample_dynamic, sample_static, sample_target = val_dataset[i]\n",
    "      sample_dynamic = sample_dynamic.unsqueeze(0).to(DEVICE)\n",
    "      sample_static = sample_static.unsqueeze(0).to(DEVICE)\n",
    "\n",
    "      prediction_scaled = model(sample_dynamic, sample_static)\n",
    "\n",
    "      prediction_original_scale = scalers['sales'].inverse_transform(prediction_scaled.cpu().numpy())\n",
    "      target_original_scale = scalers['sales'].inverse_transform(sample_target.cpu().numpy().reshape(-1,1))\n",
    "\n",
    "      predictions.append(prediction_original_scale[0][0])\n",
    "      actuals.append(target_original_scale[0][0])\n"
   ]
  },
  {
   "cell_type": "code",
   "execution_count": 32,
   "metadata": {
    "colab": {
     "base_uri": "https://localhost:8080/",
     "height": 564
    },
    "id": "73MqFOLW8YUU",
    "outputId": "a074ac43-c679-4c51-f114-ea17dd5d35fc"
   },
   "outputs": [
    {
     "data": {
      "image/png": "[encoded data removed]",
      "text/plain": [
       "<Figure size 1200x600 with 1 Axes>"
      ]
     },
     "metadata": {},
     "output_type": "display_data"
    }
   ],
   "source": [
    "import matplotlib.pyplot as plt\n",
    "\n",
    "# Plot predictions vs. actuals\n",
    "plt.figure(figsize=(12, 6))\n",
    "indices = list(range(len(actuals)))\n",
    "plt.plot(indices, actuals, label='Actual Sales', alpha=0.3, color='blue')\n",
    "plt.plot(indices, predictions, label='Predicted Sales', color='red', linestyle='-')\n",
    "plt.title(\"Prediction vs. Actual\")\n",
    "plt.xlabel(\"Date\")\n",
    "plt.ylabel(\"Sales\")\n",
    "plt.legend()\n",
    "plt.grid(alpha=0.3)\n",
    "plt.show()\n"
   ]
  },
  {
   "cell_type": "code",
   "execution_count": 33,
   "metadata": {
    "id": "_y8KKayW2IdJ"
   },
   "outputs": [],
   "source": [
    "\n",
    "# torch.save(model.state_dict(), 'sales_predictor_lstm.pth')\n",
    "# To load:\n",
    "# model_loaded = SalesPredictorLSTM(...)\n",
    "# model_loaded.load_state_dict(torch.load('sales_predictor_lstm.pth'))\n",
    "# model_loaded.to(DEVICE)\n",
    "# model_loaded.eval()"
   ]
  }
 ],
 "metadata": {
  "accelerator": "GPU",
  "colab": {
   "gpuType": "T4",
   "provenance": []
  },
  "kernelspec": {
   "display_name": "Python 3",
   "name": "python3"
  },
  "language_info": {
   "name": "python"
  }
 },
 "nbformat": 4,
 "nbformat_minor": 0
}
