{
 "cells": [
  {
   "cell_type": "markdown",
   "metadata": {},
   "source": [
    "# LSTM model"
   ]
  },
  {
   "cell_type": "code",
   "execution_count": null,
   "metadata": {
    "colab": {
     "base_uri": "https://localhost:8080/"
    },
    "id": "mw4jnwXTuFMb",
    "outputId": "2f917426-5004-42e5-db0e-9b1a882c4e30"
   },
   "outputs": [
    {
     "data": {
      "text/plain": [
       "device(type='cpu')"
      ]
     },
     "execution_count": 1,
     "metadata": {},
     "output_type": "execute_result"
    }
   ],
   "source": [
    "import pandas as pd\n",
    "import numpy as np\n",
    "import torch\n",
    "import torch.nn as nn\n",
    "from torch.utils.data import Dataset, DataLoader\n",
    "from sklearn.model_selection import train_test_split\n",
    "from tqdm import tqdm\n",
    "\n",
    "DEVICE = torch.device(\"cuda\" if torch.cuda.is_available() else \"cpu\")\n",
    "\n",
    "DEVICE"
   ]
  },
  {
   "cell_type": "code",
   "execution_count": 8,
   "metadata": {
    "colab": {
     "base_uri": "https://localhost:8080/",
     "height": 206
    },
    "id": "3d7f2WyAvk5t",
    "outputId": "ffe0b7d3-4c44-4196-f47b-291f99585af7"
   },
   "outputs": [
    {
     "data": {
      "text/html": [
       "<div>\n",
       "<style scoped>\n",
       "    .dataframe tbody tr th:only-of-type {\n",
       "        vertical-align: middle;\n",
       "    }\n",
       "\n",
       "    .dataframe tbody tr th {\n",
       "        vertical-align: top;\n",
       "    }\n",
       "\n",
       "    .dataframe thead th {\n",
       "        text-align: right;\n",
       "    }\n",
       "</style>\n",
       "<table border=\"1\" class=\"dataframe\">\n",
       "  <thead>\n",
       "    <tr style=\"text-align: right;\">\n",
       "      <th></th>\n",
       "      <th>store_nbr</th>\n",
       "      <th>family</th>\n",
       "      <th>sales</th>\n",
       "      <th>cluster</th>\n",
       "      <th>is_holiday</th>\n",
       "      <th>oil_price</th>\n",
       "      <th>year</th>\n",
       "      <th>day_of_year_sin</th>\n",
       "      <th>day_of_year_cos</th>\n",
       "      <th>day_of_month_sin</th>\n",
       "      <th>...</th>\n",
       "      <th>day_of_week_sin</th>\n",
       "      <th>day_of_week_cos</th>\n",
       "      <th>month_sin</th>\n",
       "      <th>month_cos</th>\n",
       "      <th>encoding_store_nbr</th>\n",
       "      <th>encoding_family</th>\n",
       "      <th>encoding_year</th>\n",
       "      <th>lag_4</th>\n",
       "      <th>lag_8</th>\n",
       "      <th>lag_oil_14</th>\n",
       "    </tr>\n",
       "  </thead>\n",
       "  <tbody>\n",
       "    <tr>\n",
       "      <th>0</th>\n",
       "      <td>1</td>\n",
       "      <td>AUTOMOTIVE</td>\n",
       "      <td>0.001654</td>\n",
       "      <td>13</td>\n",
       "      <td>0</td>\n",
       "      <td>0.815705</td>\n",
       "      <td>0</td>\n",
       "      <td>0.385663</td>\n",
       "      <td>0.922640</td>\n",
       "      <td>-0.998717</td>\n",
       "      <td>...</td>\n",
       "      <td>0.974928</td>\n",
       "      <td>-0.222521</td>\n",
       "      <td>0.5</td>\n",
       "      <td>0.866025</td>\n",
       "      <td>0.070964</td>\n",
       "      <td>0.002897</td>\n",
       "      <td>0.058800</td>\n",
       "      <td>0.000551</td>\n",
       "      <td>0.001103</td>\n",
       "      <td>0.792965</td>\n",
       "    </tr>\n",
       "    <tr>\n",
       "      <th>1</th>\n",
       "      <td>1</td>\n",
       "      <td>AUTOMOTIVE</td>\n",
       "      <td>0.000000</td>\n",
       "      <td>13</td>\n",
       "      <td>0</td>\n",
       "      <td>0.819140</td>\n",
       "      <td>0</td>\n",
       "      <td>0.401488</td>\n",
       "      <td>0.915864</td>\n",
       "      <td>-0.988468</td>\n",
       "      <td>...</td>\n",
       "      <td>0.433884</td>\n",
       "      <td>-0.900969</td>\n",
       "      <td>0.5</td>\n",
       "      <td>0.866025</td>\n",
       "      <td>0.070790</td>\n",
       "      <td>0.002892</td>\n",
       "      <td>0.058822</td>\n",
       "      <td>0.000551</td>\n",
       "      <td>0.001654</td>\n",
       "      <td>0.790951</td>\n",
       "    </tr>\n",
       "    <tr>\n",
       "      <th>2</th>\n",
       "      <td>1</td>\n",
       "      <td>AUTOMOTIVE</td>\n",
       "      <td>0.002756</td>\n",
       "      <td>13</td>\n",
       "      <td>0</td>\n",
       "      <td>0.816771</td>\n",
       "      <td>0</td>\n",
       "      <td>0.417194</td>\n",
       "      <td>0.908818</td>\n",
       "      <td>-0.937752</td>\n",
       "      <td>...</td>\n",
       "      <td>-0.433884</td>\n",
       "      <td>-0.900969</td>\n",
       "      <td>0.5</td>\n",
       "      <td>0.866025</td>\n",
       "      <td>0.070964</td>\n",
       "      <td>0.002897</td>\n",
       "      <td>0.058800</td>\n",
       "      <td>0.000000</td>\n",
       "      <td>0.001103</td>\n",
       "      <td>0.792728</td>\n",
       "    </tr>\n",
       "    <tr>\n",
       "      <th>3</th>\n",
       "      <td>1</td>\n",
       "      <td>AUTOMOTIVE</td>\n",
       "      <td>0.001654</td>\n",
       "      <td>13</td>\n",
       "      <td>0</td>\n",
       "      <td>0.826247</td>\n",
       "      <td>0</td>\n",
       "      <td>0.463550</td>\n",
       "      <td>0.886071</td>\n",
       "      <td>-0.571268</td>\n",
       "      <td>...</td>\n",
       "      <td>0.000000</td>\n",
       "      <td>1.000000</td>\n",
       "      <td>0.5</td>\n",
       "      <td>0.866025</td>\n",
       "      <td>0.070894</td>\n",
       "      <td>0.002900</td>\n",
       "      <td>0.058626</td>\n",
       "      <td>0.000551</td>\n",
       "      <td>0.000551</td>\n",
       "      <td>0.793675</td>\n",
       "    </tr>\n",
       "    <tr>\n",
       "      <th>4</th>\n",
       "      <td>1</td>\n",
       "      <td>AUTOMOTIVE</td>\n",
       "      <td>0.001103</td>\n",
       "      <td>13</td>\n",
       "      <td>0</td>\n",
       "      <td>0.846026</td>\n",
       "      <td>0</td>\n",
       "      <td>0.478734</td>\n",
       "      <td>0.877960</td>\n",
       "      <td>-0.394356</td>\n",
       "      <td>...</td>\n",
       "      <td>0.781831</td>\n",
       "      <td>0.623490</td>\n",
       "      <td>0.5</td>\n",
       "      <td>0.866025</td>\n",
       "      <td>0.070894</td>\n",
       "      <td>0.002900</td>\n",
       "      <td>0.058626</td>\n",
       "      <td>0.001654</td>\n",
       "      <td>0.000551</td>\n",
       "      <td>0.793794</td>\n",
       "    </tr>\n",
       "  </tbody>\n",
       "</table>\n",
       "<p>5 rows × 21 columns</p>\n",
       "</div>"
      ],
      "text/plain": [
       "   store_nbr      family     sales  cluster  is_holiday  oil_price  year  \\\n",
       "0          1  AUTOMOTIVE  0.001654       13           0   0.815705     0   \n",
       "1          1  AUTOMOTIVE  0.000000       13           0   0.819140     0   \n",
       "2          1  AUTOMOTIVE  0.002756       13           0   0.816771     0   \n",
       "3          1  AUTOMOTIVE  0.001654       13           0   0.826247     0   \n",
       "4          1  AUTOMOTIVE  0.001103       13           0   0.846026     0   \n",
       "\n",
       "   day_of_year_sin  day_of_year_cos  day_of_month_sin  ...  day_of_week_sin  \\\n",
       "0         0.385663         0.922640         -0.998717  ...         0.974928   \n",
       "1         0.401488         0.915864         -0.988468  ...         0.433884   \n",
       "2         0.417194         0.908818         -0.937752  ...        -0.433884   \n",
       "3         0.463550         0.886071         -0.571268  ...         0.000000   \n",
       "4         0.478734         0.877960         -0.394356  ...         0.781831   \n",
       "\n",
       "   day_of_week_cos  month_sin  month_cos  encoding_store_nbr  encoding_family  \\\n",
       "0        -0.222521        0.5   0.866025            0.070964         0.002897   \n",
       "1        -0.900969        0.5   0.866025            0.070790         0.002892   \n",
       "2        -0.900969        0.5   0.866025            0.070964         0.002897   \n",
       "3         1.000000        0.5   0.866025            0.070894         0.002900   \n",
       "4         0.623490        0.5   0.866025            0.070894         0.002900   \n",
       "\n",
       "   encoding_year     lag_4     lag_8  lag_oil_14  \n",
       "0       0.058800  0.000551  0.001103    0.792965  \n",
       "1       0.058822  0.000551  0.001654    0.790951  \n",
       "2       0.058800  0.000000  0.001103    0.792728  \n",
       "3       0.058626  0.000551  0.000551    0.793675  \n",
       "4       0.058626  0.001654  0.000551    0.793794  \n",
       "\n",
       "[5 rows x 21 columns]"
      ]
     },
     "execution_count": 8,
     "metadata": {},
     "output_type": "execute_result"
    }
   ],
   "source": [
    "df = pd.read_csv(\"./data/processed/features.csv\", parse_dates=[\"date\"], index_col=0)\n",
    "df = df.sort_values(by=[\"store_nbr\", \"family\", \"date\"]).reset_index(drop=True)\n",
    "categories = pd.unique(df[\"family\"])\n",
    "store_nbrs = pd.unique(df[\"store_nbr\"])\n",
    "df.head()"
   ]
  },
  {
   "cell_type": "code",
   "execution_count": null,
   "metadata": {},
   "outputs": [],
   "source": []
  },
  {
   "cell_type": "code",
   "execution_count": 22,
   "metadata": {},
   "outputs": [],
   "source": [
    "df = df[\n",
    "    df[\"family\"].isin(categories[:N_families]) & df[\"store_nbr\"].isin(store_nbrs[:N_stores])\n",
    "].copy()"
   ]
  },
  {
   "cell_type": "code",
   "execution_count": 23,
   "metadata": {
    "colab": {
     "base_uri": "https://localhost:8080/"
    },
    "id": "9jHo9khQxk6q",
    "outputId": "f8052325-3fc1-446b-fca2-a8446b67f732"
   },
   "outputs": [
    {
     "name": "stderr",
     "output_type": "stream",
     "text": [
      "  0%|          | 0/100 [00:00<?, ?it/s]"
     ]
    },
    {
     "name": "stderr",
     "output_type": "stream",
     "text": [
      "100%|██████████| 100/100 [00:00<00:00, 214.13it/s]\n"
     ]
    },
    {
     "name": "stdout",
     "output_type": "stream",
     "text": [
      "X_dynamic shape: (117386, 4, 12)\n",
      "X_static shape: (117386, 2)\n",
      "y shape: (117386, 1)\n"
     ]
    }
   ],
   "source": [
    "SEQUENCE_LENGTH = 4\n",
    "\n",
    "\n",
    "def create_sequences(\n",
    "    data,\n",
    "    seq_length=SEQUENCE_LENGTH,\n",
    "    dynamic_cols=dynamic_num_cols,\n",
    "    static_cols=static_cat_cols,\n",
    "    target_col=\"sales\",\n",
    "):\n",
    "    sequences = []\n",
    "    targets = []\n",
    "    static_features_for_target = []\n",
    "\n",
    "    entity_cols = [\"family\", \"store_nbr\"]  # Core entity identifiers\n",
    "\n",
    "    for _, group in tqdm(data.groupby(entity_cols)):\n",
    "        group_dynamic_data = group[dynamic_cols].values\n",
    "        group_static_data_at_target = group[\n",
    "            static_cols + [target_col]\n",
    "        ].values  # Static features + target sales\n",
    "\n",
    "        for i in range(len(group) - seq_length):\n",
    "            seq = group_dynamic_data[i : i + seq_length]\n",
    "            sequences.append(seq)\n",
    "\n",
    "            target_val = group_static_data_at_target[\n",
    "                i + seq_length, -1\n",
    "            ]  # Last col is target_col ('sales')\n",
    "            targets.append(target_val)\n",
    "\n",
    "            static_vals = group_static_data_at_target[i + seq_length, :-1]\n",
    "            static_features_for_target.append(static_vals)\n",
    "\n",
    "    return (\n",
    "        np.array(sequences),\n",
    "        np.array(static_features_for_target),\n",
    "        np.array(targets).reshape(-1, 1),\n",
    "    )\n",
    "\n",
    "\n",
    "X_dynamic, X_static, y = create_sequences(df, SEQUENCE_LENGTH)\n",
    "\n",
    "print(f\"X_dynamic shape: {X_dynamic.shape}\")\n",
    "print(f\"X_static shape: {X_static.shape}\")\n",
    "print(f\"y shape: {y.shape}\")\n"
   ]
  },
  {
   "cell_type": "code",
   "execution_count": 24,
   "metadata": {
    "id": "Xuy6ff7Kx_nq"
   },
   "outputs": [],
   "source": [
    "(X_dynamic_train, X_dynamic_val, X_static_train, X_static_val, y_train, y_val) = (\n",
    "    train_test_split(X_dynamic, X_static, y, test_size=0.2, random_state=42)\n",
    ")"
   ]
  },
  {
   "cell_type": "code",
   "execution_count": 26,
   "metadata": {
    "id": "MbEJPwHHz8aU"
   },
   "outputs": [],
   "source": [
    "BATCH_SIZE = 64\n",
    "\n",
    "\n",
    "class SalesDataset(Dataset):\n",
    "    def __init__(self, dynamic_features, static_features, targets):\n",
    "        self.dynamic_features = torch.tensor(dynamic_features, dtype=torch.float32)\n",
    "        self.static_features = torch.tensor(static_features, dtype=torch.float32)\n",
    "        self.targets = torch.tensor(targets, dtype=torch.float32)\n",
    "\n",
    "    def __len__(self):\n",
    "        return len(self.targets)\n",
    "\n",
    "    def __getitem__(self, idx):\n",
    "        return (\n",
    "            self.dynamic_features[idx],\n",
    "            self.static_features[idx],\n",
    "            self.targets[idx],\n",
    "        )\n",
    "\n",
    "\n",
    "train_dataset = SalesDataset(X_dynamic_train, X_static_train, y_train)\n",
    "val_dataset = SalesDataset(X_dynamic_val, X_static_val, y_val)\n",
    "\n",
    "train_loader = DataLoader(train_dataset, batch_size=BATCH_SIZE, shuffle=True)\n",
    "val_loader = DataLoader(val_dataset, batch_size=BATCH_SIZE, shuffle=False)\n"
   ]
  },
  {
   "cell_type": "code",
   "execution_count": 31,
   "metadata": {
    "colab": {
     "base_uri": "https://localhost:8080/"
    },
    "id": "OrLg9ZY0t1SN",
    "outputId": "b883ac56-1f84-4df2-e543-9ee9c71ebc2e"
   },
   "outputs": [
    {
     "name": "stdout",
     "output_type": "stream",
     "text": [
      "\n",
      "Model Architecture:\n",
      "SalesPredictorLSTM(\n",
      "  (static_mlp): Sequential(\n",
      "    (0): Linear(in_features=2, out_features=64, bias=True)\n",
      "    (1): ReLU()\n",
      "    (2): Linear(in_features=64, out_features=16, bias=True)\n",
      "    (3): ReLU()\n",
      "  )\n",
      "  (lstm): LSTM(12, 64, batch_first=True)\n",
      "  (fc1): Linear(in_features=80, out_features=32, bias=True)\n",
      "  (relu): ReLU()\n",
      "  (fc2): Linear(in_features=32, out_features=1, bias=True)\n",
      ")\n"
     ]
    }
   ],
   "source": [
    "from lstm import SalesPredictorLSTM, HIDDEN_SIZE_LSTM, HIDDEN_SIZE_FC\n",
    "\n",
    "model = SalesPredictorLSTM(\n",
    "    num_dynamic_features=X_dynamic_train.shape[2],\n",
    "    lstm_hidden_size=HIDDEN_SIZE_LSTM,\n",
    "    fc_hidden_size=HIDDEN_SIZE_FC,\n",
    "    num_static_features=X_static_train.shape[1],\n",
    ").to(DEVICE)\n",
    "\n",
    "print(\"\\nModel Architecture:\")\n",
    "print(model)\n"
   ]
  },
  {
   "cell_type": "code",
   "execution_count": null,
   "metadata": {
    "colab": {
     "base_uri": "https://localhost:8080/"
    },
    "id": "W0ycAg9z0wNE",
    "outputId": "95203c56-fbae-43d4-b5ae-ffe878c1f0fb"
   },
   "outputs": [
    {
     "name": "stdout",
     "output_type": "stream",
     "text": [
      "\n",
      "Starting Training...\n"
     ]
    },
    {
     "name": "stderr",
     "output_type": "stream",
     "text": [
      "100%|██████████| 1468/1468 [00:09<00:00, 149.16it/s]\n",
      "100%|██████████| 367/367 [00:00<00:00, 912.52it/s]\n"
     ]
    },
    {
     "name": "stdout",
     "output_type": "stream",
     "text": [
      "Epoch 1/2, Train Loss: 0.082204, Val Loss: 0.083683\n"
     ]
    },
    {
     "name": "stderr",
     "output_type": "stream",
     "text": [
      "100%|██████████| 1468/1468 [00:06<00:00, 243.73it/s]\n",
      "100%|██████████| 367/367 [00:00<00:00, 649.02it/s]"
     ]
    },
    {
     "name": "stdout",
     "output_type": "stream",
     "text": [
      "Epoch 2/2, Train Loss: 0.082177, Val Loss: 0.083683\n"
     ]
    },
    {
     "name": "stderr",
     "output_type": "stream",
     "text": [
      "\n"
     ]
    }
   ],
   "source": [
    "EPOCHS = 0\n",
    "LEARNING_RATE = 5e-4\n",
    "\n",
    "criterion = nn.MSELoss()\n",
    "optimizer = torch.optim.Adam(model.parameters(), lr=LEARNING_RATE)\n",
    "\n",
    "print(\"\\nStarting Training...\")\n",
    "for epoch in range(EPOCHS):\n",
    "    model.train()\n",
    "    train_loss_epoch = 0\n",
    "    for dynamic_batch, static_batch, target_batch in tqdm(train_loader):\n",
    "        dynamic_batch, static_batch, target_batch = (\n",
    "            dynamic_batch.to(DEVICE),\n",
    "            static_batch.to(DEVICE),\n",
    "            target_batch.to(DEVICE),\n",
    "        )\n",
    "\n",
    "        optimizer.zero_grad()\n",
    "        outputs = model(dynamic_batch, static_batch)\n",
    "        loss = criterion(outputs, target_batch)\n",
    "        loss.backward()\n",
    "        optimizer.step()\n",
    "        train_loss_epoch += loss.item()\n",
    "\n",
    "    train_loss_epoch /= len(train_loader)\n",
    "\n",
    "    model.eval()\n",
    "    val_loss_epoch = 0\n",
    "    with torch.no_grad():\n",
    "        for dynamic_batch, static_batch, target_batch in tqdm(val_loader):\n",
    "            dynamic_batch, static_batch, target_batch = (\n",
    "                dynamic_batch.to(DEVICE),\n",
    "                static_batch.to(DEVICE),\n",
    "                target_batch.to(DEVICE),\n",
    "            )\n",
    "            outputs = model(dynamic_batch, static_batch)\n",
    "            loss = criterion(outputs, target_batch)\n",
    "            val_loss_epoch += loss.item()\n",
    "    val_loss_epoch /= len(val_loader)\n",
    "\n",
    "    print(\n",
    "        f\"Epoch {epoch + 1}/{EPOCHS}, Train Loss: {train_loss_epoch:.6f}, Val Loss: {val_loss_epoch:.6f}\"\n",
    "    )\n"
   ]
  },
  {
   "cell_type": "code",
   "execution_count": null,
   "metadata": {
    "id": "_y8KKayW2IdJ"
   },
   "outputs": [],
   "source": [
    "torch.save(model.state_dict(), './lstm_sales.pth')\n",
    "# To load:"
   ]
  },
  {
   "cell_type": "code",
   "execution_count": null,
   "metadata": {},
   "outputs": [],
   "source": []
  }
 ],
 "metadata": {
  "accelerator": "GPU",
  "colab": {
   "gpuType": "T4",
   "provenance": []
  },
  "kernelspec": {
   "display_name": ".venv",
   "language": "python",
   "name": "python3"
  },
  "language_info": {
   "codemirror_mode": {
    "name": "ipython",
    "version": 3
   },
   "file_extension": ".py",
   "mimetype": "text/x-python",
   "name": "python",
   "nbconvert_exporter": "python",
   "pygments_lexer": "ipython3",
   "version": "3.12.8"
  }
 },
 "nbformat": 4,
 "nbformat_minor": 0
}
